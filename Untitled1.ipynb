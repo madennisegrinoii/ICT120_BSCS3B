{
  "nbformat": 4,
  "nbformat_minor": 0,
  "metadata": {
    "colab": {
      "name": "Untitled1.ipynb",
      "provenance": [],
      "authorship_tag": "ABX9TyPwA1quiSKABL1ZDPBdZ9li",
      "include_colab_link": true
    },
    "kernelspec": {
      "name": "python3",
      "display_name": "Python 3"
    }
  },
  "cells": [
    {
      "cell_type": "markdown",
      "metadata": {
        "id": "view-in-github",
        "colab_type": "text"
      },
      "source": [
        "<a href=\"https://colab.research.google.com/github/madennisegrinoii/ICT120_BSCS3B/blob/main/Untitled1.ipynb\" target=\"_parent\"><img src=\"https://colab.research.google.com/assets/colab-badge.svg\" alt=\"Open In Colab\"/></a>"
      ]
    },
    {
      "cell_type": "code",
      "metadata": {
        "colab": {
          "base_uri": "https://localhost:8080/"
        },
        "id": "JXKv-RfwvYMt",
        "outputId": "a813e7b2-18ef-4095-c8fd-b75be79ab49b"
      },
      "source": [
        "print (\"Hello, world!\")\n",
        "if 5>2:\n",
        "   print(\"Five is greater than 2\")\n",
        "else:\n",
        "   print(\"wrong number\")\n",
        "x = 5\n",
        "print(x)"
      ],
      "execution_count": 3,
      "outputs": [
        {
          "output_type": "stream",
          "text": [
            "Hello, world!\n",
            "Five is greater than 2\n",
            "5\n"
          ],
          "name": "stdout"
        }
      ]
    }
  ]
}